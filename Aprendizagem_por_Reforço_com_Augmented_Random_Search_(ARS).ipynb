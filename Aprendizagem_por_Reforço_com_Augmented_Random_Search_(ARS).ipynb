{
  "nbformat": 4,
  "nbformat_minor": 0,
  "metadata": {
    "colab": {
      "name": "Aprendizagem por Reforço com Augmented Random Search (ARS).ipynb",
      "provenance": [],
      "authorship_tag": "ABX9TyOhyzw8gOsIMdcDTHNOFTcW",
      "include_colab_link": true
    },
    "kernelspec": {
      "name": "python3",
      "display_name": "Python 3"
    },
    "language_info": {
      "name": "python"
    }
  },
  "cells": [
    {
      "cell_type": "markdown",
      "metadata": {
        "id": "view-in-github",
        "colab_type": "text"
      },
      "source": [
        "<a href=\"https://colab.research.google.com/github/mantoan-thi/Aprendizagem-por-Refor-o-com-Augmented-Random-Search-ARS-/blob/main/Aprendizagem_por_Refor%C3%A7o_com_Augmented_Random_Search_(ARS).ipynb\" target=\"_parent\"><img src=\"https://colab.research.google.com/assets/colab-badge.svg\" alt=\"Open In Colab\"/></a>"
      ]
    },
    {
      "cell_type": "code",
      "metadata": {
        "id": "naDAX7b08u8x"
      },
      "source": [
        "import os\n",
        "import numpy as np\n",
        "\n",
        "\n",
        "class Hp():\n",
        "  def __init__(self):\n",
        "    self.nb_steps = 1000         # número de loops que vamos utilizar para o treinamento.\n",
        "    self.episode_lenght = 1000   # máxima duração de um epsódio.\n",
        "    self.learning_rate = 0.002   # Taxa de aprendizagem.\n",
        "    self.nb_directions = 16      # número de direções -  quantidade de matrizes...\n",
        "    self.nb_best_directions = 16 # seleciona as melhores matrizes.\n",
        "    assert self. nb_best_directions <= self.nb_directions # nb_best_directions tem que ser menor ou igual ao self.nb_directions.\n",
        "    self.noise = 0.03            # Usado para não termos variancia nos dados.\n",
        "    self.seed = 1                # usamos para termos os mesmos resultados.\n",
        "    self.env_name = ''           # nome do ambiente.\n"
      ],
      "execution_count": 1,
      "outputs": []
    }
  ]
}